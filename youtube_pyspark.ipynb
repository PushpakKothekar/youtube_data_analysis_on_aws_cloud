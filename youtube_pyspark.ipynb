{
 "cells": [
  {
   "cell_type": "code",
   "execution_count": null,
   "id": "15d6143c",
   "metadata": {},
   "outputs": [],
   "source": [
    "import sys\n",
    "from awsglue.transforms import *\n",
    "from awsglue.utils import getResolvedOptions\n",
    "from pyspark.context import SparkContext\n",
    "from awsglue.context import GlueContext\n",
    "from awsglue.job import Job"
   ]
  },
  {
   "cell_type": "code",
   "execution_count": null,
   "id": "14de8983",
   "metadata": {},
   "outputs": [],
   "source": [
    "from awsglue.dynamicframe import DynamicFrame"
   ]
  },
  {
   "cell_type": "code",
   "execution_count": null,
   "id": "7fd19c26",
   "metadata": {},
   "outputs": [],
   "source": [
    "## @params: [JOB_NAME]\n",
    "args = getResolvedOptions(sys.argv, ['JOB_NAME'])"
   ]
  },
  {
   "cell_type": "code",
   "execution_count": null,
   "id": "f8eb0fb7",
   "metadata": {},
   "outputs": [],
   "source": [
    "sc = SparkContext()\n",
    "glueContext = GlueContext(sc)\n",
    "spark = glueContext.spark_session\n",
    "job = Job(glueContext)\n",
    "job.init(args['JOB_NAME'], args)"
   ]
  },
  {
   "cell_type": "code",
   "execution_count": null,
   "id": "a5b6535c",
   "metadata": {},
   "outputs": [],
   "source": [
    "## @type: DataSource\n",
    "## @args: [database = \"db_youtube_raw\", table_name = \"raw_statistics\", transformation_ctx = \"datasource0\"]\n",
    "## @return: datasource0\n",
    "## @inputs: []\n",
    "predicate_pushdown = \"region in ('ca','gb','us')\"\n",
    "datasource0 = glueContext.create_dynamic_frame.from_catalog(database = \"db_youtube_raw\", table_name = \"raw_statistics\", transformation_ctx = \"datasource0\", push_down_predicate = predicate_pushdown)"
   ]
  },
  {
   "cell_type": "code",
   "execution_count": null,
   "id": "e5b09be5",
   "metadata": {},
   "outputs": [],
   "source": [
    "## @type: ApplyMapping\n",
    "## @args: [mapping = [(\"video_id\", \"string\", \"video_id\", \"string\"), (\"trending_date\", \"string\", \"trending_date\", \"string\"), (\"title\", \"string\", \"title\", \"string\"), (\"channel_title\", \"string\", \"channel_title\", \"string\"), (\"category_id\", \"long\", \"category_id\", \"long\"), (\"publish_time\", \"string\", \"publish_time\", \"string\"), (\"tags\", \"string\", \"tags\", \"string\"), (\"views\", \"long\", \"views\", \"long\"), (\"likes\", \"long\", \"likes\", \"long\"), (\"dislikes\", \"long\", \"dislikes\", \"long\"), (\"comment_count\", \"long\", \"comment_count\", \"long\"), (\"thumbnail_link\", \"string\", \"thumbnail_link\", \"string\"), (\"comments_disabled\", \"boolean\", \"comments_disabled\", \"boolean\"), (\"ratings_disabled\", \"boolean\", \"ratings_disabled\", \"boolean\"), (\"video_error_or_removed\", \"boolean\", \"video_error_or_removed\", \"boolean\"), (\"description\", \"string\", \"description\", \"string\"), (\"region\", \"string\", \"region\", \"string\")], transformation_ctx = \"applymapping1\"]\n",
    "## @return: applymapping1\n",
    "## @inputs: [frame = datasource0]\n",
    "applymapping1 = ApplyMapping.apply(frame = datasource0, mappings = [(\"video_id\", \"string\", \"video_id\", \"string\"), (\"trending_date\", \"string\", \"trending_date\", \"string\"), (\"title\", \"string\", \"title\", \"string\"), (\"channel_title\", \"string\", \"channel_title\", \"string\"), (\"category_id\", \"long\", \"category_id\", \"long\"), (\"publish_time\", \"string\", \"publish_time\", \"string\"), (\"tags\", \"string\", \"tags\", \"string\"), (\"views\", \"long\", \"views\", \"long\"), (\"likes\", \"long\", \"likes\", \"long\"), (\"dislikes\", \"long\", \"dislikes\", \"long\"), (\"comment_count\", \"long\", \"comment_count\", \"long\"), (\"thumbnail_link\", \"string\", \"thumbnail_link\", \"string\"), (\"comments_disabled\", \"boolean\", \"comments_disabled\", \"boolean\"), (\"ratings_disabled\", \"boolean\", \"ratings_disabled\", \"boolean\"), (\"video_error_or_removed\", \"boolean\", \"video_error_or_removed\", \"boolean\"), (\"description\", \"string\", \"description\", \"string\"), (\"region\", \"string\", \"region\", \"string\")], transformation_ctx = \"applymapping1\")\n",
    "## @type: ResolveChoice\n",
    "## @args: [choice = \"make_struct\", transformation_ctx = \"resolvechoice2\"]\n",
    "## @return: resolvechoice2\n",
    "## @inputs: [frame = applymapping1]\n",
    "resolvechoice2 = ResolveChoice.apply(frame = applymapping1, choice = \"make_struct\", transformation_ctx = \"resolvechoice2\")\n",
    "## @type: DropNullFields\n",
    "## @args: [transformation_ctx = \"dropnullfields3\"]\n",
    "## @return: dropnullfields3\n",
    "## @inputs: [frame = resolvechoice2]\n",
    "dropnullfields3 = DropNullFields.apply(frame = resolvechoice2, transformation_ctx = \"dropnullfields3\")\n",
    "## @type: DataSink\n",
    "## @args: [connection_type = \"s3\", connection_options = {\"path\": \"s3://bigdata-on-youtube-cleansed-euwest1-14317621-dev/youtube/raw_statistics/\"}, format = \"parquet\", transformation_ctx = \"datasink4\"]\n",
    "## @return: datasink4\n",
    "## @inputs: [frame = dropnullfields3]"
   ]
  },
  {
   "cell_type": "code",
   "execution_count": null,
   "id": "a71325d1",
   "metadata": {},
   "outputs": [],
   "source": [
    "datasink1 = dropnullfields3.toDF().coalesce(1)\n",
    "df_final_output = DynamicFrame.fromDF(datasink1, glueContext, \"df_final_output\")\n",
    "datasink4 = glueContext.write_dynamic_frame.from_options(frame = df_final_output, connection_type = \"s3\", connection_options = {\"path\": \"s3://bigdata-on-youtube-cleansed-euwest1-14317621-dev/youtube/raw_statistics/\", \"partitionKeys\": [\"region\"]}, format = \"parquet\", transformation_ctx = \"datasink4\")"
   ]
  },
  {
   "cell_type": "code",
   "execution_count": null,
   "id": "82ff86d9",
   "metadata": {},
   "outputs": [],
   "source": [
    "job.commit()"
   ]
  },
  {
   "cell_type": "code",
   "execution_count": null,
   "id": "c3e7bcfe",
   "metadata": {},
   "outputs": [],
   "source": []
  }
 ],
 "metadata": {
  "kernelspec": {
   "display_name": "Python 3 (ipykernel)",
   "language": "python",
   "name": "python3"
  },
  "language_info": {
   "codemirror_mode": {
    "name": "ipython",
    "version": 3
   },
   "file_extension": ".py",
   "mimetype": "text/x-python",
   "name": "python",
   "nbconvert_exporter": "python",
   "pygments_lexer": "ipython3",
   "version": "3.9.12"
  }
 },
 "nbformat": 4,
 "nbformat_minor": 5
}
